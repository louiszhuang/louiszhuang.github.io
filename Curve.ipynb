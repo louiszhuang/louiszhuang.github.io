{
 "cells": [
  {
   "cell_type": "code",
   "execution_count": 2,
   "metadata": {},
   "outputs": [],
   "source": [
    ":dep plotters = { version = \"^0.2.15\", default_features = false, features = [\"evcxr\", \"line_series\"] }\n",
    ":dep qlab = { path = \"C:/dev/qlab\" }\n",
    ":dep chrono\n",
    ":dep time"
   ]
  },
  {
   "cell_type": "code",
   "execution_count": 3,
   "metadata": {
    "scrolled": true
   },
   "outputs": [],
   "source": [
    "use plotters::prelude::*;\n",
    "use qlab::{act365, DiscountCurve, InterpolationType, ZeroCurve, NaiveGilt, Currency, Funding, fit_curve_group};\n",
    "use chrono::NaiveDate;\n",
    "use time::Duration;"
   ]
  },
  {
   "cell_type": "code",
   "execution_count": 4,
   "metadata": {},
   "outputs": [
    {
     "ename": "Error",
     "evalue": "Failed to determine type of variable `curves`. rustc suggested type std::vec::Vec<((qlab::currency::Currency, qlab::funding::Funding), std::boxed::Box<dyn qlab::discount_curve::DiscountCurve<chrono::naive::date::NaiveDate>>)>, but that's private. Sometimes adding an extern crate will help rustc suggest the correct public type name, or you can give an explicit type.",
     "output_type": "error",
     "traceback": [
      "Failed to determine type of variable `curves`. rustc suggested type std::vec::Vec<((qlab::currency::Currency, qlab::funding::Funding), std::boxed::Box<dyn qlab::discount_curve::DiscountCurve<chrono::naive::date::NaiveDate>>)>, but that's private. Sometimes adding an extern crate will help rustc suggest the correct public type name, or you can give an explicit type."
     ]
    }
   ],
   "source": [
    "    \n",
    "    let cutoff:NaiveDate = NaiveDate::from_ymd(2020, 8, 11);\n",
    "    let tr65:NaiveGilt<NaiveDate> = NaiveGilt::new(0.025, NaiveDate::from_ymd(2065, 7, 22), cutoff)?;\n",
    "    let tr68:NaiveGilt<NaiveDate> = NaiveGilt::new(0.035, NaiveDate::from_ymd(2068, 7, 22), cutoff)?;\n",
    "    let tr71:NaiveGilt<NaiveDate> = NaiveGilt::new(0.01625, NaiveDate::from_ymd(2071, 10, 22), cutoff)?;\n",
    "    let curves = fit_curve_group(\n",
    "        cutoff,\n",
    "        &[(\n",
    "            (Currency::GBP, Funding::HMTreasury),\n",
    "            vec![(1.7443, &tr65), (2.2156, &tr68), (1.4986, &tr71)],\n",
    "        )],\n",
    "        &[],\n",
    "    )?;"
   ]
  },
  {
   "cell_type": "code",
   "execution_count": 5,
   "metadata": {},
   "outputs": [
    {
     "ename": "Error",
     "evalue": "cannot find value `dfs` in this scope",
     "output_type": "error",
     "traceback": [
      "    let mut fs = vec![0.;dfs.len()-1];",
      "\u001b[91m                         ^^^\u001b[0m \u001b[94mnot found in this scope\u001b[0m",
      "cannot find value `dfs` in this scope"
     ]
    },
    {
     "ename": "Error",
     "evalue": "cannot find value `dfs` in this scope",
     "output_type": "error",
     "traceback": [
      "    for i in 1..dfs.len() {",
      "\u001b[91m                ^^^\u001b[0m \u001b[94m\u001b[0m",
      "cannot find value `dfs` in this scope"
     ]
    },
    {
     "ename": "Error",
     "evalue": "cannot find value `dfs` in this scope",
     "output_type": "error",
     "traceback": [
      "        fs[i-1] = (dfs[i-1]/dfs[i]-1.)*365.",
      "\u001b[91m                   ^^^\u001b[0m \u001b[94m\u001b[0m",
      "cannot find value `dfs` in this scope"
     ]
    },
    {
     "ename": "Error",
     "evalue": "cannot find value `dfs` in this scope",
     "output_type": "error",
     "traceback": [
      "        fs[i-1] = (dfs[i-1]/dfs[i]-1.)*365.",
      "\u001b[91m                            ^^^\u001b[0m \u001b[94m\u001b[0m",
      "cannot find value `dfs` in this scope"
     ]
    }
   ],
   "source": [
    "let fig = evcxr_figure((800, 600), |root| {\n",
    "    let mut fs = vec![0.;dfs.len()-1];\n",
    "    for i in 1..dfs.len() {\n",
    "        fs[i-1] = (dfs[i-1]/dfs[i]-1.)*365.\n",
    "    }\n",
    "    root.fill(&WHITE)?;\n",
    "    let mut chart = ChartBuilder::on(&root)\n",
    "        .caption(\"Flat forward curve!\", (\"Arial\", 20).into_font())\n",
    "        .x_label_area_size(40)\n",
    "        .y_label_area_size(40)\n",
    "        .build_ranged(0..fs.len(), 0.00f64..0.1f64)?;\n",
    "    chart.configure_mesh()\n",
    "        .y_labels(10)\n",
    "        .line_style_2(&TRANSPARENT)\n",
    "        .x_desc(\"Date\")\n",
    "        .y_desc(\"Rate\")\n",
    "        .disable_x_mesh()\n",
    "        .draw()?;\n",
    "    // Then we can draw a series on it!\n",
    "    chart.draw_series(LineSeries::new(fs.iter().enumerate().map(|(i, &df)| (i, df)), &RED))?\n",
    "    .legend(|(x,y)| PathElement::new(vec![(x,y), (x + 20,y)], &RED))\n",
    "    .label(\"daily rate\");\n",
    "    chart\n",
    "        .configure_series_labels()\n",
    "        .background_style(&WHITE.mix(0.8))\n",
    "        .border_style(&BLACK)\n",
    "        .draw()?;\n",
    "    Ok(())\n",
    "}).style(\"\");\n",
    "fig"
   ]
  },
  {
   "cell_type": "code",
   "execution_count": 6,
   "metadata": {},
   "outputs": [],
   "source": [
    "//println!(\"{:?} {:?}\", ds, fs)"
   ]
  },
  {
   "cell_type": "code",
   "execution_count": null,
   "metadata": {},
   "outputs": [],
   "source": []
  }
 ],
 "metadata": {
  "kernelspec": {
   "display_name": "Rust",
   "language": "rust",
   "name": "rust"
  },
  "language_info": {
   "codemirror_mode": "rust",
   "file_extension": ".rs",
   "mimetype": "text/rust",
   "name": "Rust",
   "pygment_lexer": "rust",
   "version": ""
  }
 },
 "nbformat": 4,
 "nbformat_minor": 4
}
