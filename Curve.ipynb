{
 "cells": [
  {
   "cell_type": "code",
   "execution_count": 2,
   "metadata": {},
   "outputs": [],
   "source": [
    ":dep plotters = { git = \"https://github.com/38/plotters\", default_features = false, features = [\"evcxr\"] }\n",
    ":dep qlab = { path = \"D:/dev/qlab\" }\n",
    ":dep chrono\n",
    ":dep time"
   ]
  },
  {
   "cell_type": "code",
   "execution_count": 3,
   "metadata": {},
   "outputs": [
    {
     "ename": "Error",
     "evalue": "failed to resolve: use of undeclared type or module `ChartBuilder`",
     "output_type": "error",
     "traceback": [
      "    let mut chart = ChartBuilder::on(&root)",
      "\u001b[91m                    ^^^^^^^^^^^^\u001b[0m \u001b[94muse of undeclared type or module `ChartBuilder`\u001b[0m",
      "failed to resolve: use of undeclared type or module `ChartBuilder`"
     ]
    },
    {
     "ename": "Error",
     "evalue": "failed to resolve: use of undeclared type or module `Circle`",
     "output_type": "error",
     "traceback": [
      "        Circle::new((i, df), 1, &RED)",
      "\u001b[91m        ^^^^^^\u001b[0m \u001b[94muse of undeclared type or module `Circle`\u001b[0m",
      "failed to resolve: use of undeclared type or module `Circle`"
     ]
    },
    {
     "ename": "Error",
     "evalue": "cannot find function `evcxr_figure` in this scope",
     "output_type": "error",
     "traceback": [
      "evcxr_figure((640, 240), |root| {",
      "\u001b[91m^^^^^^^^^^^^\u001b[0m \u001b[94mnot found in this scope\u001b[0m",
      "cannot find function `evcxr_figure` in this scope"
     ]
    },
    {
     "ename": "Error",
     "evalue": "cannot find value `RED` in this scope",
     "output_type": "error",
     "traceback": [
      "        Circle::new((i, df), 1, &RED)",
      "\u001b[91m                                 ^^^\u001b[0m \u001b[94mnot found in this scope\u001b[0m",
      "cannot find value `RED` in this scope"
     ]
    },
    {
     "ename": "Error",
     "evalue": "no method named `into_font` found for tuple `(&'static str, {integer})` in the current scope",
     "output_type": "error",
     "traceback": [
      "        .caption(\"Flat forward curve!\", (\"Arial\", 20).into_font())",
      "\u001b[91m                                                      ^^^^^^^^^\u001b[0m \u001b[94mmethod not found in `(&'static str, {integer})`\u001b[0m",
      "no method named `into_font` found for tuple `(&'static str, {integer})` in the current scope"
     ]
    }
   ],
   "source": [
    "\n",
    "    use qlab::{act365, DiscountCurve, InterpolationType, ZeroCurve};\n",
    "    use chrono::NaiveDate;\n",
    "    use time::Duration;\n",
    "    let anchor: NaiveDate = NaiveDate::from_ymd(2020, 1, 1);\n",
    "    let mut dfs = vec![1f64; 365*5];\n",
    "    let mut ds: Vec<NaiveDate> = vec![];\n",
    "{\n",
    "    for i in 0..dfs.len() {\n",
    "        let d = anchor + Duration::days(i as i64);\n",
    "        ds.push(d)\n",
    "    }\n",
    "\n",
    "    let dates: Vec<NaiveDate> = vec![\n",
    "        NaiveDate::from_ymd(2021, 1, 1),\n",
    "        NaiveDate::from_ymd(2022, 1, 1),\n",
    "        NaiveDate::from_ymd(2023, 1, 1),\n",
    "        NaiveDate::from_ymd(2024, 1, 1),\n",
    "    ];\n",
    "    let rates = vec![0.01, 0.02, 0.03, 0.04];    \n",
    "    let zc = ZeroCurve::new(\n",
    "        anchor,\n",
    "        dates.clone(),\n",
    "        rates,\n",
    "        act365,\n",
    "        vec![\n",
    "            InterpolationType::Linear,\n",
    "            InterpolationType::Linear,\n",
    "            InterpolationType::Linear,\n",
    "        ],\n",
    "        vec![3, 3],\n",
    "    )?;\n",
    "    zc.dfs(&ds, &mut dfs)?;\n",
    "}\n",
    "let mut fs = vec![0.;dfs.len()-1];\n",
    "for i in 1..dfs.len() {\n",
    "    fs[i-1] = (dfs[i-1]/dfs[i]-1.)*365.\n",
    "}\n",
    "evcxr_figure((640, 240), |root| {\n",
    "    let mut chart = ChartBuilder::on(&root)\n",
    "        .caption(\"Flat forward curve!\", (\"Arial\", 20).into_font())\n",
    "        .build_ranged(0..fs.len(), 0.01f64..0.1f64)?;\n",
    "    // Then we can draw a series on it!\n",
    "    chart.draw_series(fs.iter().enumerate().map(|(i, &df)|{\n",
    "        Circle::new((i, df), 1, &RED)\n",
    "    }))?;\n",
    "    Ok(())\n",
    "})"
   ]
  },
  {
   "cell_type": "code",
   "execution_count": 4,
   "metadata": {},
   "outputs": [],
   "source": [
    "//println!(\"{:?} {:?}\", ds, fs)"
   ]
  },
  {
   "cell_type": "code",
   "execution_count": null,
   "metadata": {},
   "outputs": [],
   "source": []
  }
 ],
 "metadata": {
  "kernelspec": {
   "display_name": "Rust",
   "language": "rust",
   "name": "rust"
  },
  "language_info": {
   "codemirror_mode": "rust",
   "file_extension": ".rs",
   "mimetype": "text/rust",
   "name": "Rust",
   "pygment_lexer": "rust",
   "version": ""
  }
 },
 "nbformat": 4,
 "nbformat_minor": 4
}
